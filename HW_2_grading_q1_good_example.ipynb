{
 "cells": [
  {
   "cell_type": "code",
   "execution_count": 117,
   "id": "fe25a8c2",
   "metadata": {},
   "outputs": [],
   "source": [
    "import numpy as np\n",
    "import scipy.io\n",
    "import os, sys, time\n",
    "import imageio\n",
    "import matplotlib.pyplot as plt\n",
    "from keras.datasets import mnist"
   ]
  },
  {
   "cell_type": "markdown",
   "id": "dc0d2d85",
   "metadata": {},
   "source": [
    "## Streaming SVD Function(s) ## "
   ]
  },
  {
   "cell_type": "code",
   "execution_count": 118,
   "id": "6872fd5f",
   "metadata": {},
   "outputs": [],
   "source": [
    "# Initilization\n",
    "def init(A0, k):\n",
    "    # Compute QR decomposition of first matrx\n",
    "    q, r = np.linalg.qr(A0) \n",
    "\n",
    "    # Compute SVD of r\n",
    "    u, S, v = np.linalg.svd(r)\n",
    "\n",
    "    # Compute q * ui and save first k columns\n",
    "    k_col = np.matmul(q, u)[:, :k]\n",
    "\n",
    "    # Store singular values\n",
    "    singular_values = S[:k]\n",
    "\n",
    "    return k_col, singular_values\n",
    "\n",
    "# Incorporate additional data\n",
    "def add_new_data(Ai, ff, k, k_col, singular_values):\n",
    "\n",
    "    # Compute matrix multiplcation with old modes/singular values\n",
    "    mul_mul = ff * np.matmul(k_col, np.diag(singular_values))\n",
    "\n",
    "    # Concatenate old to new data\n",
    "    mul_mul = np.concatenate((mul_mul, Ai), axis=-1)\n",
    "\n",
    "    # Perform qr decomposition of concatenated data\n",
    "    uplus, dplus = np.linalg.qr(mul_mul)\n",
    "\n",
    "    # Compute SVD of dplus\n",
    "    uiplus, diplus, viplus = np.linalg.svd(dplus)\n",
    "\n",
    "    # Get max index of diplus\n",
    "    maximum_idex = np.argsort(diplus)[::-1][:k]\n",
    "\n",
    "    # Update singular values\n",
    "    singular_values = diplus[maximum_idex]\n",
    "\n",
    "    # Get values from max column of uiplus\n",
    "    uiplus = uiplus[:, maximum_idex]\n",
    "\n",
    "    # Update k_col\n",
    "    k_col = np.matmul(uplus, uiplus)\n",
    "\n",
    "    return k_col, singular_values\n",
    "\n",
    "def levy_lindenbaum(data, ff, k):\n",
    "    # Number of matrices \n",
    "    N = np.shape(data)[2]\n",
    "    \n",
    "    # Extract first matrix \n",
    "    A0 = data[:, :, 0]\n",
    "    \n",
    "    # Initilialize streaming SVD algorithmn\n",
    "    k_col, singular_vals = init(A0, k)\n",
    "\n",
    "    # Update singular_vales/mode using the additional N-1 data matrices\n",
    "    for i in np.arange(1, N):\n",
    "        \n",
    "        # Incorporate new data matrix and update values\n",
    "        k_col, singular_vals = add_new_data(data[:, :, i], ff, k, k_col, singular_vals)\n",
    "    \n",
    "    return k_col, singular_vals\n",
    "\n",
    "# Create a gif of images\n",
    "def gif_maker(imgs, path):\n",
    "    images = []\n",
    "\n",
    "    for array_ in imgs:\n",
    "        file_path = path\n",
    "\n",
    "        img = plt.figure(figsize = (8,8))\n",
    "        plt.imshow(array_, origin = 'lower')\n",
    "        plt.colorbar(shrink = 0.5)\n",
    "\n",
    "        plt.savefig(file_path) #Saves each figure as an image\n",
    "        images.append(imageio.imread(file_path)) #Adds images to list\n",
    "        plt.clf()\n",
    "\n",
    "    plt.close()\n",
    "    imageio.mimsave(file_path + \".gif\", images, fps=2)"
   ]
  },
  {
   "cell_type": "markdown",
   "id": "afa10798",
   "metadata": {},
   "source": [
    "## Problem 1 ## "
   ]
  },
  {
   "cell_type": "markdown",
   "id": "e7828cdf",
   "metadata": {},
   "source": [
    "An implementation of the Levy and Lindenbaum’s streaming SVD algorithm is shown above in the functions: init, add_new_data. This method is written in accordance with the description in sec 3 of [Maulik 2021](https://arxiv.org/pdf/2108.08845/1000). These functions are tested on the MNIST data in batches of 50 with a forget factor of 1.0. "
   ]
  },
  {
   "cell_type": "code",
   "execution_count": 119,
   "id": "67abe13d",
   "metadata": {},
   "outputs": [],
   "source": [
    "# Load in MNIST data set\n",
    "(nist_data, _), (_, _) = mnist.load_data()"
   ]
  },
  {
   "cell_type": "code",
   "execution_count": 120,
   "id": "74d769e4",
   "metadata": {},
   "outputs": [
    {
     "data": {
      "text/plain": [
       "<matplotlib.image.AxesImage at 0x11e9a9b4a90>"
      ]
     },
     "execution_count": 120,
     "metadata": {},
     "output_type": "execute_result"
    },
    {
     "data": {
      "image/png": "[encoded data removed]",
      "text/plain": [
       "<Figure size 432x288 with 2 Axes>"
      ]
     },
     "metadata": {
      "needs_background": "light"
     },
     "output_type": "display_data"
    }
   ],
   "source": [
    "# Verify data was correctly read in by plotting a few images\n",
    "fig, (ax1, ax2) = plt.subplots(1, 2, sharex=True, sharey=True)\n",
    "fig.suptitle('MNIST Data set', fontsize=20)\n",
    "ax1.imshow(nist_data[0, :, :])\n",
    "ax2.imshow(nist_data[1, :, :])"
   ]
  },
  {
   "cell_type": "code",
   "execution_count": 121,
   "id": "95d03580",
   "metadata": {},
   "outputs": [],
   "source": [
    "# Parameter(s) of Levy-Lindenbaum \n",
    "B  = 50                               # Batch number \n",
    "k  = 10                               # Number of columns to preserve\n",
    "ff = 1.0                              # Forget factor \n",
    "h  = np.shape(nist_data)[0]           # Image height\n",
    "w  = np.shape(nist_data)[1]           # Image width\n",
    "num_imgs = np.shape(nist_data)[2]     # Total number of images\n",
    "\n",
    "# Find value of third \n",
    "N = round(np.shape(nist_data)[0]/B)\n",
    "\n",
    "# Reshape data as to not harm images\n",
    "nist_data_batched = nist_data.swapaxes(0, 1)\n",
    "nist_data_batched = nist_data_batched.swapaxes(1, 2)\n",
    "nist_data_batched = nist_data_batched.reshape(h*w, -1)\n",
    "nist_data_batched = nist_data_batched.reshape(-1, B, N)\n",
    "\n",
    "# Run Levy-Lindenbaum streaming algorithmn\n",
    "k_col, singular_vals = levy_lindenbaum(nist_data_batched, ff, k)\n",
    "\n",
    "\n"
   ]
  },
  {
   "cell_type": "markdown",
   "id": "bb06a2ef",
   "metadata": {},
   "source": [
    "Plot both singuar values of this result"
   ]
  },
  {
   "cell_type": "code",
   "execution_count": 122,
   "id": "d135c033",
   "metadata": {},
   "outputs": [
    {
     "data": {
      "text/plain": [
       "Text(0, 0.5, 'Singular Values')"
      ]
     },
     "execution_count": 122,
     "metadata": {},
     "output_type": "execute_result"
    },
    {
     "data": {
      "image/png": "[encoded data removed]",
      "text/plain": [
       "<Figure size 864x576 with 1 Axes>"
      ]
     },
     "metadata": {
      "needs_background": "light"
     },
     "output_type": "display_data"
    }
   ],
   "source": [
    "# Plot singular values\n",
    "plt.figure(figsize=(12, 8))\n",
    "plt.plot(singular_vals)\n",
    "plt.title('MNIST Singular Values')\n",
    "plt.xlabel('X')\n",
    "plt.ylabel(\"Singular Values\")"
   ]
  },
  {
   "cell_type": "markdown",
   "id": "6b616e19",
   "metadata": {},
   "source": [
    "Plot abslute values of the mode this result"
   ]
  },
  {
   "cell_type": "code",
   "execution_count": 123,
   "id": "e42c1cba",
   "metadata": {},
   "outputs": [
    {
     "data": {
      "text/plain": [
       "Text(0, 0.5, 'Modes')"
      ]
     },
     "execution_count": 123,
     "metadata": {},
     "output_type": "execute_result"
    },
    {
     "data": {
      "image/png": "[encoded data removed]",
      "text/plain": [
       "<Figure size 864x576 with 1 Axes>"
      ]
     },
     "metadata": {
      "needs_background": "light"
     },
     "output_type": "display_data"
    }
   ],
   "source": [
    "# Take absolute values \n",
    "k_col = np.absolute(k_col)\n",
    "\n",
    "# Vectorize \n",
    "k_col = k_col.reshape(-1)\n",
    "\n",
    "# Plot singular values\n",
    "plt.figure(figsize=(12, 8))\n",
    "plt.plot(k_col)\n",
    "plt.title('MNIST Modes')\n",
    "plt.xlabel('X')\n",
    "plt.ylabel(\"Modes\")"
   ]
  },
  {
   "cell_type": "markdown",
   "id": "425b71d5",
   "metadata": {},
   "source": [
    "## Problem 2 ## "
   ]
  },
  {
   "cell_type": "markdown",
   "id": "64ad3805",
   "metadata": {},
   "source": [
    "Here, will asses the average run times of this algorithmn for varying batch sizes. Additionally, will visulaize the evolution of the first three-singular vectors for each batch as a video. For these test, will assume a forget factor of 1.0."
   ]
  },
  {
   "cell_type": "code",
   "execution_count": 124,
   "id": "dc29ae6b",
   "metadata": {},
   "outputs": [
    {
     "name": "stdout",
     "output_type": "stream",
     "text": [
      "Starting trial for Batch Size:  5 \n",
      "\n",
      "Average Time: [9.73430588] \n",
      "\n",
      "Starting trial for Batch Size:  10 \n",
      "\n",
      "Average Time: [10.07632308] \n",
      "\n",
      "Starting trial for Batch Size:  20 \n",
      "\n",
      "Average Time: [12.07030704] \n",
      "\n",
      "Starting trial for Batch Size:  30 \n",
      "\n",
      "Average Time: [15.39677689] \n",
      "\n",
      "Starting trial for Batch Size:  50 \n",
      "\n",
      "Average Time: [22.53380563] \n",
      "\n",
      "Starting trial for Batch Size:  60 \n",
      "\n",
      "Average Time: [24.75314438] \n",
      "\n",
      "Starting trial for Batch Size:  80 \n",
      "\n",
      "Average Time: [28.13612123] \n",
      "\n",
      "Starting trial for Batch Size:  100 \n",
      "\n",
      "Average Time: [36.26333969] \n",
      "\n"
     ]
    }
   ],
   "source": [
    "# Batch size of all 10 trials\n",
    "batch_sizes = np.array([5, 10, 20, 30, 50, 60, 80, 100])\n",
    "\n",
    "# Parameter(s) of Levy-Lindenbaum \n",
    "k          = 10   # Number of columns to preserve\n",
    "ff         = 1.0  # Forget factor \n",
    "num_trials = 10    # Number of trials\n",
    "h = 28\n",
    "w = 28\n",
    "\n",
    "# Value of third dimensions  \n",
    "N = (np.shape(nist_data)[0]/batch_sizes).astype(int) \n",
    "\n",
    "# Reshape data as to not harm images\n",
    "nist_data_pre = nist_data.swapaxes(0, 1)\n",
    "nist_data_pre = nist_data_pre.swapaxes(1, 2)\n",
    "nist_data_pre = nist_data_pre.reshape(h*w, -1)\n",
    "\n",
    "# Allocate space to storage run times for each case\n",
    "run_time = np.zeros((np.shape(batch_sizes)[0], 1))\n",
    "\n",
    "# Allocate space for first three singular vectors\n",
    "first_three_singular_vec = np.zeros((28*28, 3, np.shape(batch_sizes)[0]))\n",
    "\n",
    "# Run Levy-lindenbaum/np.linalg for each batch size and record run time\n",
    "for i in np.arange(0, np.shape(batch_sizes)[0]):\n",
    "    print(\"Starting trial for Batch Size: \", batch_sizes[i], \"\\n\")\n",
    "    \n",
    "    # Reshape to current batch_size\n",
    "    nist_data_batched = nist_data_pre.reshape(-1, batch_sizes[i], N[i])\n",
    "    \n",
    "    for j in np.arange(0, num_trials):        \n",
    "        # Start timer for trial\n",
    "        start_time = time.time()  \n",
    "    \n",
    "        # Start Levy Lindenbaum\n",
    "        k_col, singular_vals = levy_lindenbaum(nist_data_batched, ff, k)\n",
    "    \n",
    "        # End time and store \n",
    "        run_time[i] += time.time() - start_time\n",
    "        \n",
    "    run_time[i] = run_time[i]/num_trials\n",
    "    print(\"Average Time:\", run_time[i] ,\"\\n\")\n",
    "    \n",
    "    # Store first singular values\n",
    "    first_three_singular_vec[:, :, i] = k_col[:, :3]    "
   ]
  },
  {
   "cell_type": "markdown",
   "id": "e2e62e1c",
   "metadata": {},
   "source": [
    "Plot average run-time for each of the 10 trials "
   ]
  },
  {
   "cell_type": "code",
   "execution_count": 125,
   "id": "5e31a739",
   "metadata": {},
   "outputs": [
    {
     "data": {
      "text/plain": [
       "Text(0, 0.5, 'Average Run Time')"
      ]
     },
     "execution_count": 125,
     "metadata": {},
     "output_type": "execute_result"
    },
    {
     "data": {
      "image/png": "[encoded data removed]",
      "text/plain": [
       "<Figure size 864x576 with 1 Axes>"
      ]
     },
     "metadata": {
      "needs_background": "light"
     },
     "output_type": "display_data"
    }
   ],
   "source": [
    "# Plot singular values\n",
    "plt.figure(figsize=(12, 8))\n",
    "plt.plot(batch_sizes, run_time)\n",
    "plt.title('Run Time VS Batch Size')\n",
    "plt.xlabel('Batch Size')\n",
    "plt.ylabel(\"Average Run Time\")"
   ]
  },
  {
   "cell_type": "markdown",
   "id": "c35d06cc",
   "metadata": {},
   "source": [
    "Create gifs of the evolution of the first three singular vectors. SAVING IN GIFS DIRECTORY"
   ]
  },
  {
   "cell_type": "code",
   "execution_count": 129,
   "id": "75c841a6",
   "metadata": {},
   "outputs": [
    {
     "name": "stderr",
     "output_type": "stream",
     "text": [
      "C:\\ProgramData\\Anaconda3\\envs\\purdue_v3\\lib\\site-packages\\ipykernel_launcher.py:71: RuntimeWarning: More than 20 figures have been opened. Figures created through the pyplot interface (`matplotlib.pyplot.figure`) are retained until explicitly closed and may consume too much memory. (To control this warning, see the rcParam `figure.max_open_warning`).\n"
     ]
    },
    {
     "data": {
      "text/plain": [
       "<Figure size 576x576 with 0 Axes>"
      ]
     },
     "metadata": {},
     "output_type": "display_data"
    },
    {
     "data": {
      "text/plain": [
       "<Figure size 576x576 with 0 Axes>"
      ]
     },
     "metadata": {},
     "output_type": "display_data"
    },
    {
     "data": {
      "text/plain": [
       "<Figure size 576x576 with 0 Axes>"
      ]
     },
     "metadata": {},
     "output_type": "display_data"
    },
    {
     "data": {
      "text/plain": [
       "<Figure size 576x576 with 0 Axes>"
      ]
     },
     "metadata": {},
     "output_type": "display_data"
    },
    {
     "data": {
      "text/plain": [
       "<Figure size 576x576 with 0 Axes>"
      ]
     },
     "metadata": {},
     "output_type": "display_data"
    },
    {
     "data": {
      "text/plain": [
       "<Figure size 576x576 with 0 Axes>"
      ]
     },
     "metadata": {},
     "output_type": "display_data"
    },
    {
     "data": {
      "text/plain": [
       "<Figure size 576x576 with 0 Axes>"
      ]
     },
     "metadata": {},
     "output_type": "display_data"
    },
    {
     "data": {
      "text/plain": [
       "<Figure size 576x576 with 0 Axes>"
      ]
     },
     "metadata": {},
     "output_type": "display_data"
    },
    {
     "data": {
      "text/plain": [
       "<Figure size 576x576 with 0 Axes>"
      ]
     },
     "metadata": {},
     "output_type": "display_data"
    },
    {
     "data": {
      "text/plain": [
       "<Figure size 576x576 with 0 Axes>"
      ]
     },
     "metadata": {},
     "output_type": "display_data"
    },
    {
     "data": {
      "text/plain": [
       "<Figure size 576x576 with 0 Axes>"
      ]
     },
     "metadata": {},
     "output_type": "display_data"
    },
    {
     "data": {
      "text/plain": [
       "<Figure size 576x576 with 0 Axes>"
      ]
     },
     "metadata": {},
     "output_type": "display_data"
    },
    {
     "data": {
      "text/plain": [
       "<Figure size 576x576 with 0 Axes>"
      ]
     },
     "metadata": {},
     "output_type": "display_data"
    },
    {
     "data": {
      "text/plain": [
       "<Figure size 576x576 with 0 Axes>"
      ]
     },
     "metadata": {},
     "output_type": "display_data"
    },
    {
     "data": {
      "text/plain": [
       "<Figure size 576x576 with 0 Axes>"
      ]
     },
     "metadata": {},
     "output_type": "display_data"
    },
    {
     "data": {
      "text/plain": [
       "<Figure size 576x576 with 0 Axes>"
      ]
     },
     "metadata": {},
     "output_type": "display_data"
    },
    {
     "data": {
      "text/plain": [
       "<Figure size 576x576 with 0 Axes>"
      ]
     },
     "metadata": {},
     "output_type": "display_data"
    },
    {
     "data": {
      "text/plain": [
       "<Figure size 576x576 with 0 Axes>"
      ]
     },
     "metadata": {},
     "output_type": "display_data"
    },
    {
     "data": {
      "text/plain": [
       "<Figure size 576x576 with 0 Axes>"
      ]
     },
     "metadata": {},
     "output_type": "display_data"
    },
    {
     "data": {
      "text/plain": [
       "<Figure size 576x576 with 0 Axes>"
      ]
     },
     "metadata": {},
     "output_type": "display_data"
    },
    {
     "data": {
      "text/plain": [
       "<Figure size 576x576 with 0 Axes>"
      ]
     },
     "metadata": {},
     "output_type": "display_data"
    }
   ],
   "source": [
    "\n",
    "# Path to Gifs\n",
    "gif_1 = os.path.abspath('').replace('scripts', 'gifs') +  '\\\\sig1.png'\n",
    "gif_2 = os.path.abspath('').replace('scripts', 'gifs') +  '\\\\sig2.png'\n",
    "gif_3 = os.path.abspath('').replace('scripts', 'gifs') +  '\\\\sig3.png'\n",
    "\n",
    "# First set\n",
    "img1 = first_three_singular_vec[:, 0, :]\n",
    "img1 = img1.reshape((28, 28, 8))\n",
    "img1 = img1.swapaxes(0, 2)\n",
    "\n",
    "# First set\n",
    "img2 = first_three_singular_vec[:, 1, :]\n",
    "img2 = img2.reshape((28, 28, 8))\n",
    "img2 = img2.swapaxes(0, 2)\n",
    "\n",
    "# First set\n",
    "img3 = first_three_singular_vec[:, 2, :]\n",
    "img3 = img3.reshape((28, 28, 8))\n",
    "img3 = img3.swapaxes(0, 2)\n",
    "\n",
    "# Make gifs\n",
    "gif_maker(img1, gif_1)\n",
    "gif_maker(img2, gif_2)\n",
    "gif_maker(img3, gif_3)\n"
   ]
  },
  {
   "cell_type": "markdown",
   "id": "71fab1f7",
   "metadata": {},
   "source": [
    "Here, will qualtitatively assess the singular vector computed with our algorithmn to those of np.linalg.svd for different values of the forget factor. "
   ]
  },
  {
   "cell_type": "code",
   "execution_count": 130,
   "id": "b390dee8",
   "metadata": {},
   "outputs": [
    {
     "name": "stdout",
     "output_type": "stream",
     "text": [
      "Performing ff trial:  0 \n",
      "\n",
      "Performing ff trial:  1 \n",
      "\n",
      "Performing ff trial:  2 \n",
      "\n"
     ]
    }
   ],
   "source": [
    "# Parameter(s) of Levy-Lindenbaum \n",
    "B  = 50                           # Batch number \n",
    "k  = 10                           # Number of columns to preserve\n",
    "ff = [0.2, 0.5, 1.0]              # Forget factor \n",
    "\n",
    "# Find value of third \n",
    "N = round(np.shape(nist_data)[0]/B)\n",
    "\n",
    "# Reshape data as to not harm images\n",
    "nist_data_batched = nist_data.swapaxes(0, 1)\n",
    "nist_data_batched = nist_data_batched.swapaxes(1, 2)\n",
    "nist_data_batched = nist_data_batched.reshape(h*w, -1)\n",
    "nist_data_batched = nist_data_batched.reshape(-1, B, N)\n",
    "\n",
    "# Storage for singular vectors for each forget factor\n",
    "singular_vec_ff = np.zeros((np.shape(nist_data)[1]**2, len(ff)))\n",
    "\n",
    "# Perform SVD decomposition\n",
    "U, S, V = np.linalg.svd(nist_data_batched)\n",
    "\n",
    "# Perform levy-lindebaum for each ff factor \n",
    "for i in np.arange(0, len(ff)):\n",
    "    print(\"Performing ff trial: \", i, \"\\n\")\n",
    "    \n",
    "    # Start Levy Lindenbaum\n",
    "    k_col, singular_vals = levy_lindenbaum(nist_data_batched, ff[i], k)\n",
    "        \n",
    "    # Store singular vectors\n",
    "    singular_vec_ff[:, i] = k_col[:, 0]\n"
   ]
  },
  {
   "cell_type": "markdown",
   "id": "7bd442e6",
   "metadata": {},
   "source": [
    "Plot qualitative results for np.linalg versus streaming SVD"
   ]
  },
  {
   "cell_type": "code",
   "execution_count": 131,
   "id": "d25abf71",
   "metadata": {},
   "outputs": [
    {
     "name": "stdout",
     "output_type": "stream",
     "text": [
      "(784, 3)\n"
     ]
    },
    {
     "data": {
      "text/plain": [
       "<matplotlib.image.AxesImage at 0x11ea0874320>"
      ]
     },
     "execution_count": 131,
     "metadata": {},
     "output_type": "execute_result"
    },
    {
     "data": {
      "image/png": "[encoded data removed]",
      "text/plain": [
       "<Figure size 432x288 with 3 Axes>"
      ]
     },
     "metadata": {
      "needs_background": "light"
     },
     "output_type": "display_data"
    }
   ],
   "source": [
    "\n",
    "print(np.shape(singular_vec_ff))\n",
    "\n",
    "img1 = singular_vec_ff[:, 0].reshape(28, 28)\n",
    "img2 = singular_vec_ff[:, 1].reshape(28, 28)\n",
    "img3 = singular_vec_ff[:, 2].reshape(28, 28)\n",
    "\n",
    "# Plot Streaming \n",
    "fig, (ax1, ax2, ax3) = plt.subplots(1, 3, sharex=True, sharey=True)\n",
    "fig.suptitle('Streaming SVD ff = 0.2, 0.5, 1.0', fontsize=20)\n",
    "ax1.imshow(img1)\n",
    "ax2.imshow(img2)\n",
    "ax3.imshow(img3)"
   ]
  },
  {
   "cell_type": "code",
   "execution_count": 134,
   "id": "768f835a",
   "metadata": {},
   "outputs": [
    {
     "data": {
      "image/png": "[encoded data removed]",
      "text/plain": [
       "<Figure size 432x288 with 1 Axes>"
      ]
     },
     "metadata": {
      "needs_background": "light"
     },
     "output_type": "display_data"
    }
   ],
   "source": [
    "\n",
    "nist_data_mean_sub = nist_data_batched\n",
    "\n",
    "# Perform SVD decomposition\n",
    "U, S, V = np.linalg.svd(nist_data_mean_sub)\n",
    "\n",
    "img_svd = np.abs(U[:, 0, 0])\n",
    "img_svd = img_svd.reshape(28, 28)\n",
    "\n",
    "imgplot = plt.imshow(img_svd)\n",
    "plt.show()"
   ]
  },
  {
   "cell_type": "markdown",
   "id": "afc60341",
   "metadata": {},
   "source": [
    "As we can see, as the value of the forget factor is increased we reach a solution which approximated the SVD result! "
   ]
  },
  {
   "cell_type": "code",
   "execution_count": null,
   "id": "585ef8d6",
   "metadata": {},
   "outputs": [],
   "source": []
  }
 ],
 "metadata": {
  "kernelspec": {
   "display_name": "Python 3",
   "language": "python",
   "name": "python3"
  },
  "language_info": {
   "codemirror_mode": {
    "name": "ipython",
    "version": 3
   },
   "file_extension": ".py",
   "mimetype": "text/x-python",
   "name": "python",
   "nbconvert_exporter": "python",
   "pygments_lexer": "ipython3",
   "version": "3.6.13"
  }
 },
 "nbformat": 4,
 "nbformat_minor": 5
}
